{
 "cells": [
  {
   "cell_type": "code",
   "execution_count": 1,
   "metadata": {},
   "outputs": [
    {
     "name": "stderr",
     "output_type": "stream",
     "text": [
      "/home/sunil/anaconda3/lib/python3.6/site-packages/h5py/__init__.py:36: FutureWarning: Conversion of the second argument of issubdtype from `float` to `np.floating` is deprecated. In future, it will be treated as `np.float64 == np.dtype(float).type`.\n",
      "  from ._conv import register_converters as _register_converters\n",
      "Using TensorFlow backend.\n"
     ]
    }
   ],
   "source": [
    "# Importing the keras libraries and packages\n",
    "from keras.models import Sequential\n",
    "from keras.layers import Convolution2D\n",
    "from keras.layers import MaxPooling2D\n",
    "from keras.layers import Flatten\n",
    "from keras.layers import Dense"
   ]
  },
  {
   "cell_type": "code",
   "execution_count": 2,
   "metadata": {},
   "outputs": [],
   "source": [
    "# Initialising the CNN\n",
    "classifier = Sequential()"
   ]
  },
  {
   "cell_type": "code",
   "execution_count": 3,
   "metadata": {},
   "outputs": [
    {
     "name": "stderr",
     "output_type": "stream",
     "text": [
      "/home/sunil/anaconda3/lib/python3.6/site-packages/ipykernel_launcher.py:2: UserWarning: Update your `Conv2D` call to the Keras 2 API: `Conv2D(32, (3, 3), input_shape=(64, 64, 3..., activation=\"relu\")`\n",
      "  \n"
     ]
    }
   ],
   "source": [
    "# Step 1 - Convolution\n",
    "classifier.add(Convolution2D(32, 3, 3, input_shape = (64, 64, 3), activation='relu'))"
   ]
  },
  {
   "cell_type": "code",
   "execution_count": 4,
   "metadata": {},
   "outputs": [],
   "source": [
    "# Step 2 - Pooling\n",
    "classifier.add(MaxPooling2D(pool_size = (2, 2)))"
   ]
  },
  {
   "cell_type": "code",
   "execution_count": 5,
   "metadata": {},
   "outputs": [
    {
     "name": "stderr",
     "output_type": "stream",
     "text": [
      "/home/sunil/anaconda3/lib/python3.6/site-packages/ipykernel_launcher.py:2: UserWarning: Update your `Conv2D` call to the Keras 2 API: `Conv2D(32, (3, 3), activation=\"relu\")`\n",
      "  \n"
     ]
    }
   ],
   "source": [
    "# Adding second layer of Convolution\n",
    "classifier.add(Convolution2D(32, 3, 3, activation='relu'))\n",
    "classifier.add(MaxPooling2D(pool_size = (2, 2)))"
   ]
  },
  {
   "cell_type": "code",
   "execution_count": 6,
   "metadata": {},
   "outputs": [],
   "source": [
    "# Step 3 - Flattening\n",
    "classifier.add(Flatten())"
   ]
  },
  {
   "cell_type": "code",
   "execution_count": 7,
   "metadata": {},
   "outputs": [
    {
     "name": "stderr",
     "output_type": "stream",
     "text": [
      "/home/sunil/anaconda3/lib/python3.6/site-packages/ipykernel_launcher.py:2: UserWarning: Update your `Dense` call to the Keras 2 API: `Dense(activation=\"relu\", units=128)`\n",
      "  \n",
      "/home/sunil/anaconda3/lib/python3.6/site-packages/ipykernel_launcher.py:3: UserWarning: Update your `Dense` call to the Keras 2 API: `Dense(activation=\"sigmoid\", units=1)`\n",
      "  This is separate from the ipykernel package so we can avoid doing imports until\n"
     ]
    }
   ],
   "source": [
    "# Step 4 - Full connection\n",
    "classifier.add(Dense(output_dim = 128, activation='relu'))\n",
    "classifier.add(Dense(output_dim = 1, activation='sigmoid'))"
   ]
  },
  {
   "cell_type": "code",
   "execution_count": 8,
   "metadata": {},
   "outputs": [],
   "source": [
    "# Compiling the CNN\n",
    "classifier.compile(optimizer = 'adam', loss = 'binary_crossentropy', metrics = ['accuracy'])"
   ]
  },
  {
   "cell_type": "code",
   "execution_count": 9,
   "metadata": {},
   "outputs": [
    {
     "name": "stdout",
     "output_type": "stream",
     "text": [
      "Found 8000 images belonging to 2 classes.\n",
      "Found 2000 images belonging to 2 classes.\n",
      "Epoch 1/25\n",
      "8000/8000 [==============================] - 3704s 463ms/step - loss: 0.3866 - acc: 0.8174 - val_loss: 0.5256 - val_acc: 0.8070\n",
      "Epoch 2/25\n",
      "8000/8000 [==============================] - 3683s 460ms/step - loss: 0.1689 - acc: 0.9314 - val_loss: 0.7443 - val_acc: 0.8003\n",
      "Epoch 3/25\n",
      "8000/8000 [==============================] - 3716s 465ms/step - loss: 0.0877 - acc: 0.9674 - val_loss: 0.9593 - val_acc: 0.8084\n",
      "Epoch 4/25\n",
      "8000/8000 [==============================] - 3572s 447ms/step - loss: 0.0592 - acc: 0.9784 - val_loss: 1.0824 - val_acc: 0.8064\n",
      "Epoch 5/25\n",
      "8000/8000 [==============================] - 3518s 440ms/step - loss: 0.0467 - acc: 0.9836 - val_loss: 1.0828 - val_acc: 0.8099\n",
      "Epoch 6/25\n",
      "8000/8000 [==============================] - 3525s 441ms/step - loss: 0.0385 - acc: 0.9866 - val_loss: 1.1588 - val_acc: 0.7995\n",
      "Epoch 7/25\n",
      "8000/8000 [==============================] - 3531s 441ms/step - loss: 0.0330 - acc: 0.9885 - val_loss: 1.2634 - val_acc: 0.7994\n",
      "Epoch 8/25\n",
      "8000/8000 [==============================] - 3523s 440ms/step - loss: 0.0288 - acc: 0.9901 - val_loss: 1.3119 - val_acc: 0.8023\n",
      "Epoch 9/25\n",
      "8000/8000 [==============================] - 3522s 440ms/step - loss: 0.0261 - acc: 0.9910 - val_loss: 1.3715 - val_acc: 0.7916\n",
      "Epoch 10/25\n",
      "8000/8000 [==============================] - 3526s 441ms/step - loss: 0.0240 - acc: 0.9917 - val_loss: 1.4005 - val_acc: 0.8066\n",
      "Epoch 11/25\n",
      "8000/8000 [==============================] - 3534s 442ms/step - loss: 0.0205 - acc: 0.9931 - val_loss: 1.3651 - val_acc: 0.8030\n",
      "Epoch 12/25\n",
      "8000/8000 [==============================] - 3524s 440ms/step - loss: 0.0192 - acc: 0.9934 - val_loss: 1.3967 - val_acc: 0.8036\n",
      "Epoch 13/25\n",
      "8000/8000 [==============================] - 3562s 445ms/step - loss: 0.0187 - acc: 0.9937 - val_loss: 1.4406 - val_acc: 0.7928\n",
      "Epoch 14/25\n",
      "8000/8000 [==============================] - 3557s 445ms/step - loss: 0.0162 - acc: 0.9946 - val_loss: 1.5029 - val_acc: 0.7995\n",
      "Epoch 15/25\n",
      "8000/8000 [==============================] - 3558s 445ms/step - loss: 0.0157 - acc: 0.9948 - val_loss: 1.5646 - val_acc: 0.8074\n",
      "Epoch 16/25\n",
      "8000/8000 [==============================] - 3555s 444ms/step - loss: 0.0147 - acc: 0.9951 - val_loss: 1.5878 - val_acc: 0.8025\n",
      "Epoch 17/25\n",
      "8000/8000 [==============================] - 3546s 443ms/step - loss: 0.0142 - acc: 0.9954 - val_loss: 1.5559 - val_acc: 0.8074\n",
      "Epoch 18/25\n",
      "8000/8000 [==============================] - 3596s 450ms/step - loss: 0.0130 - acc: 0.9957 - val_loss: 1.4975 - val_acc: 0.8061\n",
      "Epoch 19/25\n",
      "8000/8000 [==============================] - 3571s 446ms/step - loss: 0.0128 - acc: 0.9959 - val_loss: 1.6039 - val_acc: 0.7999\n",
      "Epoch 20/25\n",
      "8000/8000 [==============================] - 3552s 444ms/step - loss: 0.0124 - acc: 0.9960 - val_loss: 1.4750 - val_acc: 0.8140\n",
      "Epoch 21/25\n",
      "8000/8000 [==============================] - 3574s 447ms/step - loss: 0.0109 - acc: 0.9963 - val_loss: 1.5652 - val_acc: 0.8110\n",
      "Epoch 22/25\n",
      "8000/8000 [==============================] - 3551s 444ms/step - loss: 0.0116 - acc: 0.9962 - val_loss: 1.5547 - val_acc: 0.8054\n",
      "Epoch 23/25\n",
      "8000/8000 [==============================] - 3610s 451ms/step - loss: 0.0106 - acc: 0.9966 - val_loss: 1.6484 - val_acc: 0.8023\n",
      "Epoch 24/25\n",
      "8000/8000 [==============================] - 3569s 446ms/step - loss: 0.0111 - acc: 0.9963 - val_loss: 1.6891 - val_acc: 0.7977\n",
      "Epoch 25/25\n",
      "8000/8000 [==============================] - 3668s 458ms/step - loss: 0.0098 - acc: 0.9969 - val_loss: 1.6535 - val_acc: 0.8046\n"
     ]
    },
    {
     "data": {
      "text/plain": [
       "<keras.callbacks.History at 0x7fdb31186ba8>"
      ]
     },
     "execution_count": 9,
     "metadata": {},
     "output_type": "execute_result"
    }
   ],
   "source": [
    "# Part 2 - Fitting the CNN to the images\n",
    "from keras.preprocessing.image import ImageDataGenerator\n",
    "\n",
    "train_datagen = ImageDataGenerator(\n",
    "        rescale=1./255,\n",
    "        shear_range=0.2,\n",
    "        zoom_range=0.2,\n",
    "        horizontal_flip=True)\n",
    "\n",
    "test_datagen = ImageDataGenerator(rescale=1./255)\n",
    "\n",
    "training_set = train_datagen.flow_from_directory(\n",
    "        'dataset/training_set',\n",
    "        target_size=(64, 64),\n",
    "        batch_size=32,\n",
    "        class_mode='binary')\n",
    "\n",
    "test_set = test_datagen.flow_from_directory(\n",
    "        'dataset/test_set',\n",
    "        target_size=(64, 64),\n",
    "        batch_size=32,\n",
    "        class_mode='binary')\n",
    "\n",
    "classifier.fit_generator(\n",
    "                    training_set,\n",
    "                    steps_per_epoch=8000,\n",
    "                    epochs=25,\n",
    "                    validation_data=test_set,\n",
    "                    validation_steps=2000)\n"
   ]
  },
  {
   "cell_type": "code",
   "execution_count": 10,
   "metadata": {},
   "outputs": [],
   "source": [
    "# Part 3 - Making a prediction\n",
    "import numpy as np\n",
    "from keras.preprocessing import image \n",
    "test_image = image.load_img('dataset/single_prediction/cat_or_dog_1.jpg', target_size = (64, 64))"
   ]
  },
  {
   "cell_type": "code",
   "execution_count": 11,
   "metadata": {},
   "outputs": [],
   "source": [
    "test_image = image.img_to_array(test_image)"
   ]
  },
  {
   "cell_type": "code",
   "execution_count": 13,
   "metadata": {},
   "outputs": [
    {
     "data": {
      "text/plain": [
       "array([[1.]], dtype=float32)"
      ]
     },
     "execution_count": 13,
     "metadata": {},
     "output_type": "execute_result"
    }
   ],
   "source": [
    "test_image = np.expand_dims(test_image, axis = 0)"
   ]
  },
  {
   "cell_type": "code",
   "execution_count": 14,
   "metadata": {},
   "outputs": [],
   "source": [
    "result  = classifier.predict(test_image)"
   ]
  },
  {
   "cell_type": "code",
   "execution_count": 15,
   "metadata": {},
   "outputs": [
    {
     "data": {
      "text/plain": [
       "{'cats': 0, 'dogs': 1}"
      ]
     },
     "execution_count": 15,
     "metadata": {},
     "output_type": "execute_result"
    }
   ],
   "source": [
    "training_set.class_indices"
   ]
  },
  {
   "cell_type": "code",
   "execution_count": 16,
   "metadata": {},
   "outputs": [
    {
     "data": {
      "text/plain": [
       "array([[1.]], dtype=float32)"
      ]
     },
     "execution_count": 16,
     "metadata": {},
     "output_type": "execute_result"
    }
   ],
   "source": [
    "result"
   ]
  },
  {
   "cell_type": "code",
   "execution_count": 17,
   "metadata": {},
   "outputs": [],
   "source": [
    "def PredictDogOrCat(picture):\n",
    "    testing_image = image.load_img(picture, target_size=(64,64))\n",
    "    testing_image = image.img_to_array(testing_image)\n",
    "    testing_image = np.expand_dims(testing_image, axis = 0)\n",
    "    results = classifier.predict(testing_image)\n",
    "    if results[0][0] == 1:\n",
    "        print('It is a DOG')\n",
    "    else:\n",
    "        print('It is a CAT')"
   ]
  },
  {
   "cell_type": "code",
   "execution_count": 19,
   "metadata": {},
   "outputs": [
    {
     "name": "stdout",
     "output_type": "stream",
     "text": [
      "It is a DOG\n"
     ]
    }
   ],
   "source": [
    "PredictDogOrCat('remo.jpeg')"
   ]
  },
  {
   "cell_type": "code",
   "execution_count": 20,
   "metadata": {},
   "outputs": [
    {
     "name": "stdout",
     "output_type": "stream",
     "text": [
      "It is a DOG\n"
     ]
    }
   ],
   "source": [
    "PredictDogOrCat('lion.jpeg')"
   ]
  },
  {
   "cell_type": "code",
   "execution_count": 21,
   "metadata": {},
   "outputs": [
    {
     "name": "stdout",
     "output_type": "stream",
     "text": [
      "It is a DOG\n"
     ]
    }
   ],
   "source": [
    "PredictDogOrCat('lion2.jpg')"
   ]
  },
  {
   "cell_type": "code",
   "execution_count": 22,
   "metadata": {},
   "outputs": [
    {
     "name": "stdout",
     "output_type": "stream",
     "text": [
      "It is a DOG\n"
     ]
    }
   ],
   "source": [
    "PredictDogOrCat('lion3.jpeg')"
   ]
  },
  {
   "cell_type": "code",
   "execution_count": 23,
   "metadata": {},
   "outputs": [
    {
     "name": "stdout",
     "output_type": "stream",
     "text": [
      "It is a DOG\n"
     ]
    }
   ],
   "source": [
    "PredictDogOrCat('human.JPG')"
   ]
  },
  {
   "cell_type": "code",
   "execution_count": null,
   "metadata": {},
   "outputs": [],
   "source": []
  }
 ],
 "metadata": {
  "kernelspec": {
   "display_name": "Python 3",
   "language": "python",
   "name": "python3"
  },
  "language_info": {
   "codemirror_mode": {
    "name": "ipython",
    "version": 3
   },
   "file_extension": ".py",
   "mimetype": "text/x-python",
   "name": "python",
   "nbconvert_exporter": "python",
   "pygments_lexer": "ipython3",
   "version": "3.6.4"
  }
 },
 "nbformat": 4,
 "nbformat_minor": 2
}
